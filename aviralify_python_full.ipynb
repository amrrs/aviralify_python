{
 "cells": [
  {
   "cell_type": "code",
   "execution_count": 4,
   "metadata": {},
   "outputs": [],
   "source": [
    "import requests\n",
    "from bs4 import BeautifulSoup\n",
    "import markovify\n",
    "import re\n",
    "import unicodedata"
   ]
  },
  {
   "cell_type": "code",
   "execution_count": 119,
   "metadata": {},
   "outputs": [],
   "source": [
    "# !! pip3 install markovify"
   ]
  },
  {
   "cell_type": "code",
   "execution_count": 1,
   "metadata": {},
   "outputs": [],
   "source": [
    "# Run this only once if you want to collect data again which would be insane since I'm providing it already"
   ]
  },
  {
   "cell_type": "code",
   "execution_count": 122,
   "metadata": {},
   "outputs": [],
   "source": [
    "urls = ['http://eepurl.com/dpY1b1','http://eepurl.com/guWmdf','http://eepurl.com/gugUmT','http://eepurl.com/gtAh8b','http://eepurl.com/gsNGaf','http://eepurl.com/grQpPP','http://eepurl.com/gqYE3T','http://eepurl.com/gp6qZP','http://eepurl.com/gpi1lL','http://eepurl.com/goCWeD','http://eepurl.com/gnWozz','http://eepurl.com/gnbOAT','http://eepurl.com/gmpzO9','http://eepurl.com/glFm3P','http://eepurl.com/gkW5mn','http://eepurl.com/gj1AMH','http://eepurl.com/gjcvl5','http://eepurl.com/giiYOn','http://eepurl.com/ghzJgT','http://eepurl.com/ggQ54b','http://eepurl.com/gf7uHL']"
   ]
  },
  {
   "cell_type": "code",
   "execution_count": 125,
   "metadata": {},
   "outputs": [],
   "source": [
    "def textify(url):\n",
    "    mytext = ''\n",
    "    content = requests.get(url)\n",
    "    soup = BeautifulSoup(content.text)\n",
    "    for span_tag in soup.find_all('span'):\n",
    "        if span_tag.text is not None:\n",
    "            mytext = mytext + str(span_tag.text)\n",
    "            #print(span_tag.text)\n",
    "    fomatted_text = mytext[mytext.find(\"Dear <<First Name>>,Dear <<First Name>>,\")+40:mytext.find(\"Reading:\")]\n",
    "    return(fomatted_text)"
   ]
  },
  {
   "cell_type": "code",
   "execution_count": 126,
   "metadata": {},
   "outputs": [],
   "source": [
    "mytext = ''"
   ]
  },
  {
   "cell_type": "code",
   "execution_count": 127,
   "metadata": {},
   "outputs": [],
   "source": [
    "for url in urls:\n",
    "    mytext = mytext + textify(url)"
   ]
  },
  {
   "cell_type": "code",
   "execution_count": 128,
   "metadata": {},
   "outputs": [],
   "source": [
    "mytext = re.sub(\"Edition [0-9][0-9]:\",\",\",mytext)"
   ]
  },
  {
   "cell_type": "code",
   "execution_count": 129,
   "metadata": {},
   "outputs": [],
   "source": [
    "print(mytext,  file=open('aviral_emails.txt', 'w'))"
   ]
  },
  {
   "cell_type": "code",
   "execution_count": 68,
   "metadata": {},
   "outputs": [],
   "source": [
    "read_text = open('aviral_emails.txt', \"r\")"
   ]
  },
  {
   "cell_type": "code",
   "execution_count": 69,
   "metadata": {},
   "outputs": [],
   "source": [
    "txt = read_text.readlines()"
   ]
  },
  {
   "cell_type": "code",
   "execution_count": 70,
   "metadata": {},
   "outputs": [],
   "source": [
    "txt = ''.join(txt)"
   ]
  },
  {
   "cell_type": "code",
   "execution_count": 72,
   "metadata": {},
   "outputs": [],
   "source": [
    "txt = txt.replace(u'\\xa0', u' ')"
   ]
  },
  {
   "cell_type": "code",
   "execution_count": 73,
   "metadata": {},
   "outputs": [],
   "source": [
    "text_model = markovify.Text(txt, state_size = 2)"
   ]
  },
  {
   "cell_type": "code",
   "execution_count": 105,
   "metadata": {},
   "outputs": [],
   "source": [
    "aviralified_text = '\\n'"
   ]
  },
  {
   "cell_type": "code",
   "execution_count": 106,
   "metadata": {},
   "outputs": [],
   "source": [
    "# Print ten randomly-generated sentences using the built model\n",
    "for i in range(10):\n",
    "    if i == 5:\n",
    "        aviralified_text = aviralified_text + '\\n\\n'+ text_model.make_sentence()\n",
    "    aviralified_text = aviralified_text + text_model.make_sentence()"
   ]
  },
  {
   "cell_type": "code",
   "execution_count": 107,
   "metadata": {},
   "outputs": [
    {
     "name": "stdout",
     "output_type": "stream",
     "text": [
      "Dear Abdul, \n",
      "\n",
      "Unperturbed by the problems they had been nourished with its fundraise, the vision of the economy.Only 20% of global exports.By all means, the founder CEO was unable to understand how this could happen in 2019.In terms of valuation in the entrepreneurial and startup ecosystem in India.Rebel Foods could change the landscape of technology in China is now, on a strong signal of how particularly interesting financial technology in China and the real estate startup NoBroker raised $51MM to bolster its first round, with the belief that there is significant investor interest across multiple companies.\n",
      "\n",
      "India had its first kind of content that appealed to an underserved audience - young internet savvy Indian millennials in the winter would be $8M and Netflix would be equal to the challenge for them to scale its business.A small e-commerce player called Flipkart would scale it beyond expectations.Like one of its starting, the company soon started with 1/100th of Paytm's volume, began to upsell financial services, inventory management and data-driven product choices.Apple's notoriously closed and opaque ecosystem has been its focus on educational loans, the company is today.All of this concept.From 10MM downloads, PhonePe would onboard millions of professionals for years.\n",
      "\n",
      "Regards, \n",
      "Aviralify_Python\n"
     ]
    }
   ],
   "source": [
    "print('Dear Abdul, \\n' + aviralified_text + '\\n\\nRegards, \\nAviralify_Python')"
   ]
  },
  {
   "cell_type": "code",
   "execution_count": null,
   "metadata": {},
   "outputs": [],
   "source": []
  },
  {
   "cell_type": "code",
   "execution_count": null,
   "metadata": {},
   "outputs": [],
   "source": []
  }
 ],
 "metadata": {
  "kernelspec": {
   "display_name": "Python 3",
   "language": "python",
   "name": "python3"
  },
  "language_info": {
   "codemirror_mode": {
    "name": "ipython",
    "version": 3
   },
   "file_extension": ".py",
   "mimetype": "text/x-python",
   "name": "python",
   "nbconvert_exporter": "python",
   "pygments_lexer": "ipython3",
   "version": "3.7.3"
  }
 },
 "nbformat": 4,
 "nbformat_minor": 2
}
